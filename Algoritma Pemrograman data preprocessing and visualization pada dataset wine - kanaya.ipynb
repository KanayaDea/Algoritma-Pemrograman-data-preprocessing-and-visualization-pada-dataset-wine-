{
  "cells": [
    {
      "cell_type": "code",
      "execution_count": null,
      "id": "52779966",
      "metadata": {
        "id": "52779966"
      },
      "outputs": [],
      "source": [
        "import pandas as pd # data processing\n",
        "import numpy as np # linear algebra\n",
        "import seaborn as sns # visualisasi data\n",
        "import matplotlib.pyplot as plt"
      ]
    },
    {
      "cell_type": "code",
      "execution_count": null,
      "id": "76cca739",
      "metadata": {
        "id": "76cca739"
      },
      "outputs": [],
      "source": [
        "wine_df = pd.read_csv('winemag-data-130k-v2.csv.zip', index_col = 0)\n",
        "#wine_df.head()"
      ]
    },
    {
      "cell_type": "markdown",
      "id": "febfeb3b",
      "metadata": {
        "id": "febfeb3b"
      },
      "source": [
        "# Exploring dataset"
      ]
    },
    {
      "cell_type": "code",
      "execution_count": null,
      "id": "ffdd728b",
      "metadata": {
        "colab": {
          "base_uri": "https://localhost:8080/"
        },
        "id": "ffdd728b",
        "outputId": "46eb713a-bc85-4b8c-8745-076974882aa5"
      },
      "outputs": [
        {
          "output_type": "execute_result",
          "data": {
            "text/plain": [
              "(129971, 13)"
            ]
          },
          "metadata": {},
          "execution_count": 11
        }
      ],
      "source": [
        "wine_df.shape"
      ]
    },
    {
      "cell_type": "code",
      "execution_count": null,
      "id": "465840a3",
      "metadata": {
        "colab": {
          "base_uri": "https://localhost:8080/"
        },
        "id": "465840a3",
        "outputId": "34316438-071b-47a2-ae0a-2045d25f50e7"
      },
      "outputs": [
        {
          "output_type": "execute_result",
          "data": {
            "text/plain": [
              "Index(['country', 'description', 'designation', 'points', 'price', 'province',\n",
              "       'region_1', 'region_2', 'taster_name', 'taster_twitter_handle', 'title',\n",
              "       'variety', 'winery'],\n",
              "      dtype='object')"
            ]
          },
          "metadata": {},
          "execution_count": 12
        }
      ],
      "source": [
        "wine_df.columns"
      ]
    },
    {
      "cell_type": "code",
      "execution_count": null,
      "id": "b2687aca",
      "metadata": {
        "id": "b2687aca"
      },
      "outputs": [],
      "source": [
        "#wine_df.describe"
      ]
    },
    {
      "cell_type": "code",
      "execution_count": null,
      "id": "e4b14f5d",
      "metadata": {
        "colab": {
          "base_uri": "https://localhost:8080/",
          "height": 206
        },
        "id": "e4b14f5d",
        "outputId": "f11e3e20-691f-4ca5-c768-a095a6f00b33"
      },
      "outputs": [
        {
          "output_type": "execute_result",
          "data": {
            "text/plain": [
              "    country  points  price\n",
              "0     Italy      87    NaN\n",
              "1  Portugal      87   15.0\n",
              "2        US      87   14.0\n",
              "3        US      87   13.0\n",
              "4        US      87   65.0"
            ],
            "text/html": [
              "\n",
              "  <div id=\"df-d76329eb-e45c-4768-adaf-76cfac0b68dc\">\n",
              "    <div class=\"colab-df-container\">\n",
              "      <div>\n",
              "<style scoped>\n",
              "    .dataframe tbody tr th:only-of-type {\n",
              "        vertical-align: middle;\n",
              "    }\n",
              "\n",
              "    .dataframe tbody tr th {\n",
              "        vertical-align: top;\n",
              "    }\n",
              "\n",
              "    .dataframe thead th {\n",
              "        text-align: right;\n",
              "    }\n",
              "</style>\n",
              "<table border=\"1\" class=\"dataframe\">\n",
              "  <thead>\n",
              "    <tr style=\"text-align: right;\">\n",
              "      <th></th>\n",
              "      <th>country</th>\n",
              "      <th>points</th>\n",
              "      <th>price</th>\n",
              "    </tr>\n",
              "  </thead>\n",
              "  <tbody>\n",
              "    <tr>\n",
              "      <th>0</th>\n",
              "      <td>Italy</td>\n",
              "      <td>87</td>\n",
              "      <td>NaN</td>\n",
              "    </tr>\n",
              "    <tr>\n",
              "      <th>1</th>\n",
              "      <td>Portugal</td>\n",
              "      <td>87</td>\n",
              "      <td>15.0</td>\n",
              "    </tr>\n",
              "    <tr>\n",
              "      <th>2</th>\n",
              "      <td>US</td>\n",
              "      <td>87</td>\n",
              "      <td>14.0</td>\n",
              "    </tr>\n",
              "    <tr>\n",
              "      <th>3</th>\n",
              "      <td>US</td>\n",
              "      <td>87</td>\n",
              "      <td>13.0</td>\n",
              "    </tr>\n",
              "    <tr>\n",
              "      <th>4</th>\n",
              "      <td>US</td>\n",
              "      <td>87</td>\n",
              "      <td>65.0</td>\n",
              "    </tr>\n",
              "  </tbody>\n",
              "</table>\n",
              "</div>\n",
              "      <button class=\"colab-df-convert\" onclick=\"convertToInteractive('df-d76329eb-e45c-4768-adaf-76cfac0b68dc')\"\n",
              "              title=\"Convert this dataframe to an interactive table.\"\n",
              "              style=\"display:none;\">\n",
              "        \n",
              "  <svg xmlns=\"http://www.w3.org/2000/svg\" height=\"24px\"viewBox=\"0 0 24 24\"\n",
              "       width=\"24px\">\n",
              "    <path d=\"M0 0h24v24H0V0z\" fill=\"none\"/>\n",
              "    <path d=\"M18.56 5.44l.94 2.06.94-2.06 2.06-.94-2.06-.94-.94-2.06-.94 2.06-2.06.94zm-11 1L8.5 8.5l.94-2.06 2.06-.94-2.06-.94L8.5 2.5l-.94 2.06-2.06.94zm10 10l.94 2.06.94-2.06 2.06-.94-2.06-.94-.94-2.06-.94 2.06-2.06.94z\"/><path d=\"M17.41 7.96l-1.37-1.37c-.4-.4-.92-.59-1.43-.59-.52 0-1.04.2-1.43.59L10.3 9.45l-7.72 7.72c-.78.78-.78 2.05 0 2.83L4 21.41c.39.39.9.59 1.41.59.51 0 1.02-.2 1.41-.59l7.78-7.78 2.81-2.81c.8-.78.8-2.07 0-2.86zM5.41 20L4 18.59l7.72-7.72 1.47 1.35L5.41 20z\"/>\n",
              "  </svg>\n",
              "      </button>\n",
              "      \n",
              "  <style>\n",
              "    .colab-df-container {\n",
              "      display:flex;\n",
              "      flex-wrap:wrap;\n",
              "      gap: 12px;\n",
              "    }\n",
              "\n",
              "    .colab-df-convert {\n",
              "      background-color: #E8F0FE;\n",
              "      border: none;\n",
              "      border-radius: 50%;\n",
              "      cursor: pointer;\n",
              "      display: none;\n",
              "      fill: #1967D2;\n",
              "      height: 32px;\n",
              "      padding: 0 0 0 0;\n",
              "      width: 32px;\n",
              "    }\n",
              "\n",
              "    .colab-df-convert:hover {\n",
              "      background-color: #E2EBFA;\n",
              "      box-shadow: 0px 1px 2px rgba(60, 64, 67, 0.3), 0px 1px 3px 1px rgba(60, 64, 67, 0.15);\n",
              "      fill: #174EA6;\n",
              "    }\n",
              "\n",
              "    [theme=dark] .colab-df-convert {\n",
              "      background-color: #3B4455;\n",
              "      fill: #D2E3FC;\n",
              "    }\n",
              "\n",
              "    [theme=dark] .colab-df-convert:hover {\n",
              "      background-color: #434B5C;\n",
              "      box-shadow: 0px 1px 3px 1px rgba(0, 0, 0, 0.15);\n",
              "      filter: drop-shadow(0px 1px 2px rgba(0, 0, 0, 0.3));\n",
              "      fill: #FFFFFF;\n",
              "    }\n",
              "  </style>\n",
              "\n",
              "      <script>\n",
              "        const buttonEl =\n",
              "          document.querySelector('#df-d76329eb-e45c-4768-adaf-76cfac0b68dc button.colab-df-convert');\n",
              "        buttonEl.style.display =\n",
              "          google.colab.kernel.accessAllowed ? 'block' : 'none';\n",
              "\n",
              "        async function convertToInteractive(key) {\n",
              "          const element = document.querySelector('#df-d76329eb-e45c-4768-adaf-76cfac0b68dc');\n",
              "          const dataTable =\n",
              "            await google.colab.kernel.invokeFunction('convertToInteractive',\n",
              "                                                     [key], {});\n",
              "          if (!dataTable) return;\n",
              "\n",
              "          const docLinkHtml = 'Like what you see? Visit the ' +\n",
              "            '<a target=\"_blank\" href=https://colab.research.google.com/notebooks/data_table.ipynb>data table notebook</a>'\n",
              "            + ' to learn more about interactive tables.';\n",
              "          element.innerHTML = '';\n",
              "          dataTable['output_type'] = 'display_data';\n",
              "          await google.colab.output.renderOutput(dataTable, element);\n",
              "          const docLink = document.createElement('div');\n",
              "          docLink.innerHTML = docLinkHtml;\n",
              "          element.appendChild(docLink);\n",
              "        }\n",
              "      </script>\n",
              "    </div>\n",
              "  </div>\n",
              "  "
            ]
          },
          "metadata": {},
          "execution_count": 15
        }
      ],
      "source": [
        "wine_df = wine_df.drop(columns = ['description', 'designation', 'region_1', 'region_2', 'taster_twitter_handle', 'province', 'taster_name', 'title', 'variety', 'winery'])\n",
        "wine_df.head()"
      ]
    },
    {
      "cell_type": "code",
      "execution_count": null,
      "id": "2f2ea666",
      "metadata": {
        "colab": {
          "base_uri": "https://localhost:8080/"
        },
        "id": "2f2ea666",
        "outputId": "ea60b388-67a5-4ee0-e13d-1adb9b716ddf"
      },
      "outputs": [
        {
          "output_type": "execute_result",
          "data": {
            "text/plain": [
              "array(['Italy', 'Portugal', 'US', 'Spain', 'France', 'Germany',\n",
              "       'Argentina', 'Chile', 'Australia', 'Austria', 'South Africa',\n",
              "       'New Zealand', 'Israel', 'Hungary', 'Greece', 'Romania', 'Mexico',\n",
              "       'Canada', nan, 'Turkey', 'Czech Republic', 'Slovenia',\n",
              "       'Luxembourg', 'Croatia', 'Georgia', 'Uruguay', 'England',\n",
              "       'Lebanon', 'Serbia', 'Brazil', 'Moldova', 'Morocco', 'Peru',\n",
              "       'India', 'Bulgaria', 'Cyprus', 'Armenia', 'Switzerland',\n",
              "       'Bosnia and Herzegovina', 'Ukraine', 'Slovakia', 'Macedonia',\n",
              "       'China', 'Egypt'], dtype=object)"
            ]
          },
          "metadata": {},
          "execution_count": 16
        }
      ],
      "source": [
        "wine_df.country.unique()"
      ]
    },
    {
      "cell_type": "code",
      "execution_count": null,
      "id": "9d79ff3a",
      "metadata": {
        "id": "9d79ff3a"
      },
      "outputs": [],
      "source": [
        "wine_df.drop_duplicates(inplace = True)"
      ]
    },
    {
      "cell_type": "markdown",
      "id": "baac9b9f",
      "metadata": {
        "id": "baac9b9f"
      },
      "source": [
        "# Cleaning dataset"
      ]
    },
    {
      "cell_type": "code",
      "execution_count": null,
      "id": "bb1714d1",
      "metadata": {
        "colab": {
          "base_uri": "https://localhost:8080/"
        },
        "id": "bb1714d1",
        "outputId": "d81fe22f-902b-4f36-aefa-27ef2dd9e2da"
      },
      "outputs": [
        {
          "output_type": "execute_result",
          "data": {
            "text/plain": [
              "country     45\n",
              "points       0\n",
              "price      192\n",
              "dtype: int64"
            ]
          },
          "metadata": {},
          "execution_count": 18
        }
      ],
      "source": [
        "wine_df.isna().sum()"
      ]
    },
    {
      "cell_type": "code",
      "execution_count": null,
      "id": "94a148a8",
      "metadata": {
        "id": "94a148a8"
      },
      "outputs": [],
      "source": [
        "wine_df.dropna(inplace = True)"
      ]
    },
    {
      "cell_type": "code",
      "execution_count": null,
      "id": "2b00dd55",
      "metadata": {
        "colab": {
          "base_uri": "https://localhost:8080/"
        },
        "id": "2b00dd55",
        "outputId": "d45deaef-957c-4116-be62-d38f75f0f6d8"
      },
      "outputs": [
        {
          "output_type": "execute_result",
          "data": {
            "text/plain": [
              "(10392, 3)"
            ]
          },
          "metadata": {},
          "execution_count": 20
        }
      ],
      "source": [
        "wine_df.shape"
      ]
    },
    {
      "cell_type": "code",
      "execution_count": null,
      "id": "5cb0dc04",
      "metadata": {
        "colab": {
          "base_uri": "https://localhost:8080/"
        },
        "id": "5cb0dc04",
        "outputId": "9f44bdbc-f4b3-428f-9f2a-1af38024f784"
      },
      "outputs": [
        {
          "output_type": "execute_result",
          "data": {
            "text/plain": [
              "count    10392.000000\n",
              "mean        69.246536\n",
              "std        106.380201\n",
              "min          4.000000\n",
              "25%         22.000000\n",
              "50%         41.000000\n",
              "75%         78.000000\n",
              "max       3300.000000\n",
              "Name: price, dtype: float64"
            ]
          },
          "metadata": {},
          "execution_count": 21
        }
      ],
      "source": [
        "wine_df['price'].describe()"
      ]
    },
    {
      "cell_type": "code",
      "execution_count": null,
      "id": "46cfbf0c",
      "metadata": {
        "id": "46cfbf0c"
      },
      "outputs": [],
      "source": [
        "reduced_price = np.array(wine_df['price'][:6])"
      ]
    },
    {
      "cell_type": "markdown",
      "id": "39f7cfe5",
      "metadata": {
        "id": "39f7cfe5"
      },
      "source": [
        "# Searching"
      ]
    },
    {
      "cell_type": "code",
      "execution_count": null,
      "id": "71b3bc4b",
      "metadata": {
        "id": "71b3bc4b"
      },
      "outputs": [],
      "source": [
        "def search_by_country(name):\n",
        "    result = wine_df.loc[wine_df['country'] == name]\n",
        "    return result.head()\n",
        "\n",
        "def search_by_price(num):\n",
        "    result = wine_df['price'] == int(num)\n",
        "    return wine_df[result].head()\n",
        "\n",
        "def search_by_points(num):\n",
        "    result = wine_df['points'] == int(num)\n",
        "    return wine_df[result].head()"
      ]
    },
    {
      "cell_type": "code",
      "source": [
        "search_by_country('US')"
      ],
      "metadata": {
        "colab": {
          "base_uri": "https://localhost:8080/",
          "height": 299
        },
        "id": "GyetICk-lIvJ",
        "outputId": "7c252c7c-4955-44fc-ea7f-7a50a1333f0a"
      },
      "id": "GyetICk-lIvJ",
      "execution_count": null,
      "outputs": [
        {
          "output_type": "error",
          "ename": "NameError",
          "evalue": "ignored",
          "traceback": [
            "\u001b[0;31m---------------------------------------------------------------------------\u001b[0m",
            "\u001b[0;31mNameError\u001b[0m                                 Traceback (most recent call last)",
            "\u001b[0;32m<ipython-input-2-80e7ad5e9dfc>\u001b[0m in \u001b[0;36m<module>\u001b[0;34m\u001b[0m\n\u001b[0;32m----> 1\u001b[0;31m \u001b[0msearch_by_country\u001b[0m\u001b[0;34m(\u001b[0m\u001b[0;34m'US'\u001b[0m\u001b[0;34m)\u001b[0m\u001b[0;34m\u001b[0m\u001b[0;34m\u001b[0m\u001b[0m\n\u001b[0m",
            "\u001b[0;32m<ipython-input-1-4ac7566608cd>\u001b[0m in \u001b[0;36msearch_by_country\u001b[0;34m(name)\u001b[0m\n\u001b[1;32m      1\u001b[0m \u001b[0;32mdef\u001b[0m \u001b[0msearch_by_country\u001b[0m\u001b[0;34m(\u001b[0m\u001b[0mname\u001b[0m\u001b[0;34m)\u001b[0m\u001b[0;34m:\u001b[0m\u001b[0;34m\u001b[0m\u001b[0;34m\u001b[0m\u001b[0m\n\u001b[0;32m----> 2\u001b[0;31m     \u001b[0mresult\u001b[0m \u001b[0;34m=\u001b[0m \u001b[0mwine_df\u001b[0m\u001b[0;34m.\u001b[0m\u001b[0mloc\u001b[0m\u001b[0;34m[\u001b[0m\u001b[0mwine_df\u001b[0m\u001b[0;34m[\u001b[0m\u001b[0;34m'country'\u001b[0m\u001b[0;34m]\u001b[0m \u001b[0;34m==\u001b[0m \u001b[0mname\u001b[0m\u001b[0;34m]\u001b[0m\u001b[0;34m\u001b[0m\u001b[0;34m\u001b[0m\u001b[0m\n\u001b[0m\u001b[1;32m      3\u001b[0m     \u001b[0;32mreturn\u001b[0m \u001b[0mresult\u001b[0m\u001b[0;34m.\u001b[0m\u001b[0mhead\u001b[0m\u001b[0;34m(\u001b[0m\u001b[0;34m)\u001b[0m\u001b[0;34m\u001b[0m\u001b[0;34m\u001b[0m\u001b[0m\n\u001b[1;32m      4\u001b[0m \u001b[0;34m\u001b[0m\u001b[0m\n\u001b[1;32m      5\u001b[0m \u001b[0;32mdef\u001b[0m \u001b[0msearch_by_price\u001b[0m\u001b[0;34m(\u001b[0m\u001b[0mnum\u001b[0m\u001b[0;34m)\u001b[0m\u001b[0;34m:\u001b[0m\u001b[0;34m\u001b[0m\u001b[0;34m\u001b[0m\u001b[0m\n",
            "\u001b[0;31mNameError\u001b[0m: name 'wine_df' is not defined"
          ]
        }
      ]
    },
    {
      "cell_type": "code",
      "execution_count": null,
      "id": "1105a73d",
      "metadata": {
        "id": "1105a73d"
      },
      "outputs": [],
      "source": [
        "def LinearSearch(lys, element):\n",
        "    values = np.array(lys)\n",
        "    for count, value in enumerate(values):\n",
        "        if value == element:\n",
        "            return f'index : {count+1}'"
      ]
    },
    {
      "cell_type": "code",
      "source": [
        "LinearSearch(wine_df['country'], 'US')"
      ],
      "metadata": {
        "id": "ObnsAPvsmLd0"
      },
      "id": "ObnsAPvsmLd0",
      "execution_count": null,
      "outputs": []
    },
    {
      "cell_type": "markdown",
      "id": "9572a8eb",
      "metadata": {
        "id": "9572a8eb"
      },
      "source": [
        "# Sorting"
      ]
    },
    {
      "cell_type": "code",
      "execution_count": null,
      "id": "2854eadd",
      "metadata": {
        "colab": {
          "base_uri": "https://localhost:8080/",
          "height": 189
        },
        "id": "2854eadd",
        "outputId": "8261f055-8627-476a-9d83-9507f22bb731"
      },
      "outputs": [
        {
          "output_type": "error",
          "ename": "NameError",
          "evalue": "ignored",
          "traceback": [
            "\u001b[0;31m---------------------------------------------------------------------------\u001b[0m",
            "\u001b[0;31mNameError\u001b[0m                                 Traceback (most recent call last)",
            "\u001b[0;32m<ipython-input-7-b7e656bb48ac>\u001b[0m in \u001b[0;36m<module>\u001b[0;34m\u001b[0m\n\u001b[0;32m----> 1\u001b[0;31m \u001b[0mreduced\u001b[0m \u001b[0;34m=\u001b[0m \u001b[0mnp\u001b[0m\u001b[0;34m.\u001b[0m\u001b[0marray\u001b[0m\u001b[0;34m(\u001b[0m\u001b[0mwine_df\u001b[0m\u001b[0;34m[\u001b[0m\u001b[0;34m'price'\u001b[0m\u001b[0;34m]\u001b[0m\u001b[0;34m[\u001b[0m\u001b[0;34m:\u001b[0m\u001b[0;36m20\u001b[0m\u001b[0;34m]\u001b[0m\u001b[0;34m)\u001b[0m\u001b[0;34m\u001b[0m\u001b[0;34m\u001b[0m\u001b[0m\n\u001b[0m\u001b[1;32m      2\u001b[0m \u001b[0mreduced\u001b[0m\u001b[0;34m\u001b[0m\u001b[0;34m\u001b[0m\u001b[0m\n",
            "\u001b[0;31mNameError\u001b[0m: name 'np' is not defined"
          ]
        }
      ],
      "source": [
        "reduced = np.array(wine_df['price'][:20])\n",
        "reduced"
      ]
    },
    {
      "cell_type": "code",
      "execution_count": null,
      "id": "1cc6f0c6",
      "metadata": {
        "id": "1cc6f0c6"
      },
      "outputs": [],
      "source": [
        "def sorting_values_asc(col):\n",
        "    result = wine_df.sort_values(col, ascending = True)\n",
        "    return result.head()\n",
        "\n",
        "def sorting_values_des(col):\n",
        "    result = wine_df.sort_values(col, ascending = False)\n",
        "    return result.head()"
      ]
    },
    {
      "cell_type": "code",
      "execution_count": null,
      "id": "e1b8a24a",
      "metadata": {
        "id": "e1b8a24a"
      },
      "outputs": [],
      "source": [
        "def SelectionSort(arr):\n",
        "    # Traverse through 1 to len(arr)\n",
        "    for i in range(len(arr)):\n",
        "    # Find the minimum element in remaining\n",
        "    # unsorted array\n",
        "        min_idx = i\n",
        "        for j in range(i+1, len(arr)):\n",
        "            if arr[min_idx] > arr[j]:\n",
        "                min_idx = j\n",
        "\n",
        "    # Swap the found minimum element with\n",
        "    # the first element\n",
        "        arr[i], arr[min_idx] = arr[min_idx], arr[i]\n",
        "    return arr"
      ]
    },
    {
      "cell_type": "code",
      "source": [
        "SelectionSort(reduced)"
      ],
      "metadata": {
        "colab": {
          "base_uri": "https://localhost:8080/",
          "height": 171
        },
        "id": "wPp9daWknnOm",
        "outputId": "2ead512e-a295-4c7a-e1ac-da66dda4cfd5"
      },
      "id": "wPp9daWknnOm",
      "execution_count": null,
      "outputs": [
        {
          "output_type": "error",
          "ename": "NameError",
          "evalue": "ignored",
          "traceback": [
            "\u001b[0;31m---------------------------------------------------------------------------\u001b[0m",
            "\u001b[0;31mNameError\u001b[0m                                 Traceback (most recent call last)",
            "\u001b[0;32m<ipython-input-6-abc7df91696c>\u001b[0m in \u001b[0;36m<module>\u001b[0;34m\u001b[0m\n\u001b[0;32m----> 1\u001b[0;31m \u001b[0mSelectionSort\u001b[0m\u001b[0;34m(\u001b[0m\u001b[0mreduced\u001b[0m\u001b[0;34m)\u001b[0m\u001b[0;34m\u001b[0m\u001b[0;34m\u001b[0m\u001b[0m\n\u001b[0m",
            "\u001b[0;31mNameError\u001b[0m: name 'reduced' is not defined"
          ]
        }
      ]
    },
    {
      "cell_type": "code",
      "source": [
        "sorting_values_asc('price')"
      ],
      "metadata": {
        "id": "BStqdGlYH5qb"
      },
      "id": "BStqdGlYH5qb",
      "execution_count": null,
      "outputs": []
    },
    {
      "cell_type": "markdown",
      "id": "9b6e0bc5",
      "metadata": {
        "id": "9b6e0bc5"
      },
      "source": [
        "# Visualization"
      ]
    },
    {
      "cell_type": "code",
      "execution_count": null,
      "id": "f64471e6",
      "metadata": {
        "colab": {
          "base_uri": "https://localhost:8080/",
          "height": 166
        },
        "id": "f64471e6",
        "outputId": "06c6de29-ed0a-4034-900b-fc299b2f3bf5"
      },
      "outputs": [
        {
          "output_type": "error",
          "ename": "NameError",
          "evalue": "ignored",
          "traceback": [
            "\u001b[0;31m---------------------------------------------------------------------------\u001b[0m",
            "\u001b[0;31mNameError\u001b[0m                                 Traceback (most recent call last)",
            "\u001b[0;32m<ipython-input-1-a1ce9d610346>\u001b[0m in \u001b[0;36m<module>\u001b[0;34m\u001b[0m\n\u001b[0;32m----> 1\u001b[0;31m \u001b[0mwine_df\u001b[0m\u001b[0;34m[\u001b[0m\u001b[0;34m'country'\u001b[0m\u001b[0;34m]\u001b[0m\u001b[0;34m.\u001b[0m\u001b[0mvalue_counts\u001b[0m\u001b[0;34m(\u001b[0m\u001b[0;34m)\u001b[0m\u001b[0;34m\u001b[0m\u001b[0;34m\u001b[0m\u001b[0m\n\u001b[0m",
            "\u001b[0;31mNameError\u001b[0m: name 'wine_df' is not defined"
          ]
        }
      ],
      "source": [
        "wine_df['country'].value_counts()"
      ]
    },
    {
      "cell_type": "code",
      "execution_count": null,
      "id": "99988413",
      "metadata": {
        "id": "99988413"
      },
      "outputs": [],
      "source": [
        "fig = plt.figure()\n",
        "plt.pie(wine_df['country'].value_counts(), labels = wine_df['country'].value_counts().keys(), autopct = '%.1f')"
      ]
    },
    {
      "cell_type": "code",
      "execution_count": null,
      "id": "084b5594",
      "metadata": {
        "id": "084b5594"
      },
      "outputs": [],
      "source": [
        "wine_df['points'].describe()"
      ]
    },
    {
      "cell_type": "code",
      "execution_count": null,
      "id": "b1f42197",
      "metadata": {
        "id": "b1f42197"
      },
      "outputs": [],
      "source": [
        "fig, ax = plt.subplots()\n",
        "ax.plot(wine_df['points'][:500], marker = 'o', markersize = 1)\n",
        "ax.set_ylabel('POINTS')\n",
        "ax.set_xlabel('INDEX')\n",
        "ax.set_yticks([80, 87, 90, 92, 100])\n",
        "ax.set_yticklabels(['min', '25%', '50%', '75%', 'max'])"
      ]
    },
    {
      "cell_type": "code",
      "execution_count": null,
      "id": "e391e6f8",
      "metadata": {
        "id": "e391e6f8"
      },
      "outputs": [],
      "source": [
        "fig = plt.figure()\n",
        "plt.boxplot(wine_df['points'])"
      ]
    },
    {
      "cell_type": "code",
      "execution_count": null,
      "id": "1b5718d0",
      "metadata": {
        "id": "1b5718d0"
      },
      "outputs": [],
      "source": [
        "def inserting(country, points, price):\n",
        "  #wine_df = wine_df.append({'country' : country, 'points' : int(points), 'price' : int(price)})\n",
        "  wine_df.loc[len(wine_df)] = [country, points, price]\n",
        "  return wine_df.tail()"
      ]
    },
    {
      "cell_type": "code",
      "source": [
        "inserting('indo', 90, 980)"
      ],
      "metadata": {
        "id": "vqACD8YVspnr"
      },
      "id": "vqACD8YVspnr",
      "execution_count": null,
      "outputs": []
    },
    {
      "cell_type": "code",
      "source": [
        "wine_df.shape"
      ],
      "metadata": {
        "id": "HnVlguBrszf6"
      },
      "id": "HnVlguBrszf6",
      "execution_count": null,
      "outputs": []
    },
    {
      "cell_type": "code",
      "source": [
        "def deleting_row(i):\n",
        "  wine_df.drop(wine_df.index[int(i)], inplace = True)\n",
        "  return wine_df.tail()"
      ],
      "metadata": {
        "id": "a_aLdW2Spo1y"
      },
      "id": "a_aLdW2Spo1y",
      "execution_count": null,
      "outputs": []
    },
    {
      "cell_type": "code",
      "source": [
        "deleting_row(10392)"
      ],
      "metadata": {
        "id": "etuLrygqshep"
      },
      "id": "etuLrygqshep",
      "execution_count": null,
      "outputs": []
    },
    {
      "cell_type": "code",
      "source": [
        "wine_df.shape"
      ],
      "metadata": {
        "id": "5ssXB3EEslzJ"
      },
      "id": "5ssXB3EEslzJ",
      "execution_count": null,
      "outputs": []
    },
    {
      "cell_type": "code",
      "source": [],
      "metadata": {
        "id": "2AT08tXOtuJu"
      },
      "id": "2AT08tXOtuJu",
      "execution_count": null,
      "outputs": []
    }
  ],
  "metadata": {
    "kernelspec": {
      "display_name": "Python 3 (ipykernel)",
      "language": "python",
      "name": "python3"
    },
    "language_info": {
      "codemirror_mode": {
        "name": "ipython",
        "version": 3
      },
      "file_extension": ".py",
      "mimetype": "text/x-python",
      "name": "python",
      "nbconvert_exporter": "python",
      "pygments_lexer": "ipython3",
      "version": "3.9.7"
    },
    "colab": {
      "provenance": []
    }
  },
  "nbformat": 4,
  "nbformat_minor": 5
}